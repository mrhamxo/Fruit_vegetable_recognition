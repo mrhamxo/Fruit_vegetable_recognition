{
 "cells": [
  {
   "cell_type": "markdown",
   "metadata": {
    "id": "jvR3mgomfoDv"
   },
   "source": [
    "# Importing Dataset"
   ]
  },
  {
   "cell_type": "code",
   "execution_count": null,
   "metadata": {
    "colab": {
     "base_uri": "https://localhost:8080/"
    },
    "id": "LjgcbxUhfqK7",
    "outputId": "8f8f9ef6-0d59-4209-ea18-c4b2e0c27203"
   },
   "outputs": [
    {
     "name": "stdout",
     "output_type": "stream",
     "text": [
      "Drive already mounted at /content/drive; to attempt to forcibly remount, call drive.mount(\"/content/drive\", force_remount=True).\n"
     ]
    }
   ],
   "source": [
    "from google.colab import drive\n",
    "drive.mount('/content/drive')"
   ]
  },
  {
   "cell_type": "markdown",
   "metadata": {
    "id": "T8a6E5YZAoCU"
   },
   "source": [
    "# Importing Libraries"
   ]
  },
  {
   "cell_type": "code",
   "execution_count": 1,
   "metadata": {
    "id": "7MSpPYbNAsX3"
   },
   "outputs": [
    {
     "name": "stdout",
     "output_type": "stream",
     "text": [
      "WARNING:tensorflow:From C:\\Users\\Hamza\\AppData\\Roaming\\Python\\Python310\\site-packages\\keras\\src\\losses.py:2976: The name tf.losses.sparse_softmax_cross_entropy is deprecated. Please use tf.compat.v1.losses.sparse_softmax_cross_entropy instead.\n",
      "\n"
     ]
    }
   ],
   "source": [
    "import numpy as np\n",
    "import tensorflow as tf\n",
    "import matplotlib.pyplot as plt"
   ]
  },
  {
   "cell_type": "markdown",
   "metadata": {
    "id": "oZCwup4-A44E"
   },
   "source": [
    "# Data Preprocessing"
   ]
  },
  {
   "cell_type": "markdown",
   "metadata": {
    "id": "PJV-Huk6B_vt"
   },
   "source": [
    "## Training Image Preprocessing"
   ]
  },
  {
   "cell_type": "code",
   "execution_count": null,
   "metadata": {
    "colab": {
     "base_uri": "https://localhost:8080/"
    },
    "id": "bS84xNDBA8AP",
    "outputId": "c6b1f520-347d-4249-9d5b-bc55a3c742c7"
   },
   "outputs": [
    {
     "name": "stdout",
     "output_type": "stream",
     "text": [
      "Found 3115 files belonging to 36 classes.\n"
     ]
    }
   ],
   "source": [
    "training_set = tf.keras.utils.image_dataset_from_directory(\n",
    "    '/content/drive/MyDrive/Fruit_vegetable_recognition/train',\n",
    "    labels=\"inferred\",\n",
    "    label_mode=\"categorical\",\n",
    "    class_names=None,\n",
    "    color_mode=\"rgb\",\n",
    "    batch_size=32,\n",
    "    image_size=(64, 64),\n",
    "    shuffle=True,\n",
    "    seed=None,\n",
    "    validation_split=None,\n",
    "    subset=None,\n",
    "    interpolation=\"bilinear\",\n",
    "    follow_links=False,\n",
    "    crop_to_aspect_ratio=False\n",
    ")"
   ]
  },
  {
   "cell_type": "markdown",
   "metadata": {
    "id": "aj2V24KdI81Q"
   },
   "source": [
    "## Validation Image Preprocessing"
   ]
  },
  {
   "cell_type": "code",
   "execution_count": null,
   "metadata": {
    "colab": {
     "base_uri": "https://localhost:8080/"
    },
    "id": "pzieOCmeCmP7",
    "outputId": "1a1e1f6b-8e78-46ca-9f4f-2c7478b3e852"
   },
   "outputs": [
    {
     "name": "stdout",
     "output_type": "stream",
     "text": [
      "Found 351 files belonging to 36 classes.\n"
     ]
    }
   ],
   "source": [
    "validation_set = tf.keras.utils.image_dataset_from_directory(\n",
    "    '/content/drive/MyDrive/Fruit_vegetable_recognition/validation',\n",
    "    labels=\"inferred\",\n",
    "    label_mode=\"categorical\",\n",
    "    class_names=None,\n",
    "    color_mode=\"rgb\",\n",
    "    batch_size=32,\n",
    "    image_size=(64, 64),\n",
    "    shuffle=True,\n",
    "    seed=None,\n",
    "    validation_split=None,\n",
    "    subset=None,\n",
    "    interpolation=\"bilinear\",\n",
    "    follow_links=False,\n",
    "    crop_to_aspect_ratio=False\n",
    ")"
   ]
  },
  {
   "cell_type": "markdown",
   "metadata": {
    "id": "NeZEFXcxL1it"
   },
   "source": [
    "# Building Model"
   ]
  },
  {
   "cell_type": "code",
   "execution_count": null,
   "metadata": {
    "id": "Xqw0bGx-L6qA"
   },
   "outputs": [],
   "source": [
    "cnn = tf.keras.models.Sequential()"
   ]
  },
  {
   "cell_type": "markdown",
   "metadata": {
    "id": "U1gRNMhNMvNM"
   },
   "source": [
    "## Building convolution layer"
   ]
  },
  {
   "cell_type": "code",
   "execution_count": null,
   "metadata": {
    "id": "Iq3vmVA5Mt7X"
   },
   "outputs": [],
   "source": [
    "cnn.add(tf.keras.layers.Conv2D(filters = 32, kernel_size = 3, activation = 'relu', input_shape = [64, 64, 3]))\n",
    "cnn.add(tf.keras.layers.Conv2D(filters = 32, kernel_size = 3, activation = 'relu'))\n",
    "cnn.add(tf.keras.layers.MaxPool2D(pool_size = 2, strides = 2))"
   ]
  },
  {
   "cell_type": "code",
   "execution_count": null,
   "metadata": {
    "id": "dcVcew0CP9Wb"
   },
   "outputs": [],
   "source": [
    "cnn.add(tf.keras.layers.Conv2D(filters = 64, kernel_size = 3, activation = 'relu'))\n",
    "cnn.add(tf.keras.layers.Conv2D(filters = 64, kernel_size = 3, activation = 'relu'))\n",
    "cnn.add(tf.keras.layers.MaxPool2D(pool_size = 2, strides = 2))"
   ]
  },
  {
   "cell_type": "code",
   "execution_count": null,
   "metadata": {
    "id": "ofY-t2YaR45V"
   },
   "outputs": [],
   "source": [
    "cnn.add(tf.keras.layers.Flatten())"
   ]
  },
  {
   "cell_type": "code",
   "execution_count": null,
   "metadata": {
    "id": "K-o6LXIuSEJO"
   },
   "outputs": [],
   "source": [
    "cnn.add(tf.keras.layers.Dense(units = 512, activation = 'relu'))"
   ]
  },
  {
   "cell_type": "code",
   "execution_count": null,
   "metadata": {
    "id": "l9XE96I8jt0o"
   },
   "outputs": [],
   "source": [
    "cnn.add(tf.keras.layers.Dense(units = 256, activation = 'relu'))"
   ]
  },
  {
   "cell_type": "code",
   "execution_count": null,
   "metadata": {
    "id": "XYu8ghcSj-Ti"
   },
   "outputs": [],
   "source": [
    "cnn.add(tf.keras.layers.Dropout(0.5)) # We dropping some neuron to avoid overfitting"
   ]
  },
  {
   "cell_type": "code",
   "execution_count": null,
   "metadata": {
    "id": "RQHlTKdYSWA9"
   },
   "outputs": [],
   "source": [
    "# Output Layer\n",
    "cnn.add(tf.keras.layers.Dense(units = 36, activation = 'softmax'))"
   ]
  },
  {
   "cell_type": "markdown",
   "metadata": {
    "id": "KauQDeYqS6qn"
   },
   "source": [
    "# Compiling and Training Phase"
   ]
  },
  {
   "cell_type": "code",
   "execution_count": null,
   "metadata": {
    "id": "WLVcvAjaS1Xp"
   },
   "outputs": [],
   "source": [
    "cnn.compile(optimizer = 'adam', loss = 'categorical_crossentropy', metrics = ['accuracy'])"
   ]
  },
  {
   "cell_type": "code",
   "execution_count": null,
   "metadata": {
    "colab": {
     "base_uri": "https://localhost:8080/"
    },
    "id": "KRQWx5SJib7C",
    "outputId": "1a882109-1c9d-4117-ee77-b8e6fd8f2f6a"
   },
   "outputs": [
    {
     "name": "stdout",
     "output_type": "stream",
     "text": [
      "Model: \"sequential_1\"\n",
      "_________________________________________________________________\n",
      " Layer (type)                Output Shape              Param #   \n",
      "=================================================================\n",
      " conv2d_2 (Conv2D)           (None, 62, 62, 32)        896       \n",
      "                                                                 \n",
      " conv2d_3 (Conv2D)           (None, 60, 60, 32)        9248      \n",
      "                                                                 \n",
      " max_pooling2d_2 (MaxPoolin  (None, 30, 30, 32)        0         \n",
      " g2D)                                                            \n",
      "                                                                 \n",
      " conv2d_4 (Conv2D)           (None, 28, 28, 64)        18496     \n",
      "                                                                 \n",
      " conv2d_5 (Conv2D)           (None, 26, 26, 64)        36928     \n",
      "                                                                 \n",
      " max_pooling2d_3 (MaxPoolin  (None, 13, 13, 64)        0         \n",
      " g2D)                                                            \n",
      "                                                                 \n",
      " flatten_1 (Flatten)         (None, 10816)             0         \n",
      "                                                                 \n",
      " dense_2 (Dense)             (None, 512)               5538304   \n",
      "                                                                 \n",
      " dense_3 (Dense)             (None, 256)               131328    \n",
      "                                                                 \n",
      " dropout_1 (Dropout)         (None, 256)               0         \n",
      "                                                                 \n",
      " dense_4 (Dense)             (None, 36)                9252      \n",
      "                                                                 \n",
      "=================================================================\n",
      "Total params: 5744452 (21.91 MB)\n",
      "Trainable params: 5744452 (21.91 MB)\n",
      "Non-trainable params: 0 (0.00 Byte)\n",
      "_________________________________________________________________\n"
     ]
    }
   ],
   "source": [
    "cnn.summary()"
   ]
  },
  {
   "cell_type": "code",
   "execution_count": null,
   "metadata": {
    "colab": {
     "base_uri": "https://localhost:8080/"
    },
    "id": "iA9_neXXTgd7",
    "outputId": "a2bede00-a805-4219-982b-d301877fde3b"
   },
   "outputs": [
    {
     "name": "stdout",
     "output_type": "stream",
     "text": [
      "Epoch 1/32\n",
      "98/98 [==============================] - 151s 1s/step - loss: 3.5732 - accuracy: 0.0321 - val_loss: 3.5792 - val_accuracy: 0.0399\n",
      "Epoch 2/32\n",
      "98/98 [==============================] - 143s 1s/step - loss: 3.5611 - accuracy: 0.0395 - val_loss: 3.4775 - val_accuracy: 0.0741\n",
      "Epoch 3/32\n",
      "98/98 [==============================] - 140s 1s/step - loss: 3.5603 - accuracy: 0.0446 - val_loss: 3.4786 - val_accuracy: 0.0712\n",
      "Epoch 4/32\n",
      "98/98 [==============================] - 150s 1s/step - loss: 3.5313 - accuracy: 0.0514 - val_loss: 3.5039 - val_accuracy: 0.0997\n",
      "Epoch 5/32\n",
      "98/98 [==============================] - 157s 2s/step - loss: 3.4274 - accuracy: 0.0860 - val_loss: 3.1190 - val_accuracy: 0.2051\n",
      "Epoch 6/32\n",
      "98/98 [==============================] - 150s 1s/step - loss: 3.2097 - accuracy: 0.1303 - val_loss: 2.6334 - val_accuracy: 0.3504\n",
      "Epoch 7/32\n",
      "98/98 [==============================] - 148s 1s/step - loss: 2.9821 - accuracy: 0.1878 - val_loss: 2.2696 - val_accuracy: 0.4217\n",
      "Epoch 8/32\n",
      "98/98 [==============================] - 148s 1s/step - loss: 2.6537 - accuracy: 0.2645 - val_loss: 1.9088 - val_accuracy: 0.5242\n",
      "Epoch 9/32\n",
      "98/98 [==============================] - 143s 1s/step - loss: 2.4003 - accuracy: 0.3274 - val_loss: 1.6487 - val_accuracy: 0.5783\n",
      "Epoch 10/32\n",
      "98/98 [==============================] - 143s 1s/step - loss: 2.0905 - accuracy: 0.4132 - val_loss: 1.4560 - val_accuracy: 0.6439\n",
      "Epoch 11/32\n",
      "98/98 [==============================] - 149s 1s/step - loss: 1.9061 - accuracy: 0.4636 - val_loss: 1.3446 - val_accuracy: 0.6809\n",
      "Epoch 12/32\n",
      "98/98 [==============================] - 154s 2s/step - loss: 1.6839 - accuracy: 0.5236 - val_loss: 1.4197 - val_accuracy: 0.6638\n",
      "Epoch 13/32\n",
      "98/98 [==============================] - 147s 1s/step - loss: 1.5214 - accuracy: 0.5823 - val_loss: 1.2749 - val_accuracy: 0.6895\n",
      "Epoch 14/32\n",
      "98/98 [==============================] - 151s 1s/step - loss: 1.3226 - accuracy: 0.6324 - val_loss: 1.0098 - val_accuracy: 0.7464\n",
      "Epoch 15/32\n",
      "98/98 [==============================] - 159s 2s/step - loss: 1.2459 - accuracy: 0.6632 - val_loss: 1.0520 - val_accuracy: 0.7521\n",
      "Epoch 16/32\n",
      "98/98 [==============================] - 144s 1s/step - loss: 1.1573 - accuracy: 0.6758 - val_loss: 1.0248 - val_accuracy: 0.7521\n",
      "Epoch 17/32\n",
      "98/98 [==============================] - 149s 1s/step - loss: 1.0610 - accuracy: 0.6973 - val_loss: 0.9496 - val_accuracy: 0.7749\n",
      "Epoch 18/32\n",
      "98/98 [==============================] - 144s 1s/step - loss: 1.0358 - accuracy: 0.7114 - val_loss: 0.8677 - val_accuracy: 0.8091\n",
      "Epoch 19/32\n",
      "98/98 [==============================] - 157s 2s/step - loss: 0.9747 - accuracy: 0.7268 - val_loss: 0.9404 - val_accuracy: 0.7749\n",
      "Epoch 20/32\n",
      "98/98 [==============================] - 142s 1s/step - loss: 0.8809 - accuracy: 0.7554 - val_loss: 0.9015 - val_accuracy: 0.8006\n",
      "Epoch 21/32\n",
      "98/98 [==============================] - 149s 1s/step - loss: 0.8345 - accuracy: 0.7644 - val_loss: 0.8428 - val_accuracy: 0.8120\n",
      "Epoch 22/32\n",
      "98/98 [==============================] - 156s 2s/step - loss: 0.7805 - accuracy: 0.7884 - val_loss: 0.7914 - val_accuracy: 0.8291\n",
      "Epoch 23/32\n",
      "98/98 [==============================] - 151s 1s/step - loss: 0.7359 - accuracy: 0.7978 - val_loss: 0.8648 - val_accuracy: 0.8148\n",
      "Epoch 24/32\n",
      "98/98 [==============================] - 143s 1s/step - loss: 0.7815 - accuracy: 0.7859 - val_loss: 0.7943 - val_accuracy: 0.8376\n",
      "Epoch 25/32\n",
      "98/98 [==============================] - 148s 1s/step - loss: 0.6443 - accuracy: 0.8205 - val_loss: 0.9608 - val_accuracy: 0.8034\n",
      "Epoch 26/32\n",
      "98/98 [==============================] - 151s 1s/step - loss: 0.6198 - accuracy: 0.8260 - val_loss: 0.7408 - val_accuracy: 0.8718\n",
      "Epoch 27/32\n",
      "98/98 [==============================] - 150s 1s/step - loss: 0.5637 - accuracy: 0.8437 - val_loss: 0.6907 - val_accuracy: 0.8547\n",
      "Epoch 28/32\n",
      "98/98 [==============================] - 150s 1s/step - loss: 0.5968 - accuracy: 0.8337 - val_loss: 0.8292 - val_accuracy: 0.8604\n",
      "Epoch 29/32\n",
      "98/98 [==============================] - 155s 2s/step - loss: 0.5526 - accuracy: 0.8523 - val_loss: 0.7022 - val_accuracy: 0.8803\n",
      "Epoch 30/32\n",
      "98/98 [==============================] - 149s 1s/step - loss: 0.5220 - accuracy: 0.8607 - val_loss: 0.6183 - val_accuracy: 0.8917\n",
      "Epoch 31/32\n",
      "98/98 [==============================] - 148s 1s/step - loss: 0.4472 - accuracy: 0.8806 - val_loss: 0.5436 - val_accuracy: 0.9088\n",
      "Epoch 32/32\n",
      "98/98 [==============================] - 151s 1s/step - loss: 0.4440 - accuracy: 0.8796 - val_loss: 0.5943 - val_accuracy: 0.9231\n"
     ]
    }
   ],
   "source": [
    "training_history = cnn.fit(x = training_set, validation_data = validation_set, epochs = 32)"
   ]
  },
  {
   "cell_type": "markdown",
   "metadata": {
    "id": "ifkbxqLyMINl"
   },
   "source": [
    "# Saving Model"
   ]
  },
  {
   "cell_type": "code",
   "execution_count": null,
   "metadata": {
    "colab": {
     "base_uri": "https://localhost:8080/"
    },
    "id": "jYmGqcJlURCP",
    "outputId": "834a13fa-c410-4ba2-d7bb-5908e309e297"
   },
   "outputs": [
    {
     "name": "stderr",
     "output_type": "stream",
     "text": [
      "/usr/local/lib/python3.10/dist-packages/keras/src/engine/training.py:3103: UserWarning: You are saving your model as an HDF5 file via `model.save()`. This file format is considered legacy. We recommend using instead the native Keras format, e.g. `model.save('my_model.keras')`.\n",
      "  saving_api.save_model(\n"
     ]
    }
   ],
   "source": [
    "cnn.save('./model/trained_model.h5')"
   ]
  },
  {
   "cell_type": "code",
   "execution_count": null,
   "metadata": {
    "colab": {
     "base_uri": "https://localhost:8080/"
    },
    "id": "b3v8UIKYn1Yv",
    "outputId": "efce7858-403f-4bc7-fb16-a95c775a96db"
   },
   "outputs": [
    {
     "data": {
      "text/plain": [
       "{'loss': [3.5732195377349854,\n",
       "  3.561103343963623,\n",
       "  3.5603108406066895,\n",
       "  3.5312812328338623,\n",
       "  3.427391290664673,\n",
       "  3.2097456455230713,\n",
       "  2.9821054935455322,\n",
       "  2.653688907623291,\n",
       "  2.400273561477661,\n",
       "  2.090532064437866,\n",
       "  1.9060810804367065,\n",
       "  1.6838634014129639,\n",
       "  1.5213643312454224,\n",
       "  1.3225899934768677,\n",
       "  1.245904803276062,\n",
       "  1.1572973728179932,\n",
       "  1.0610069036483765,\n",
       "  1.0358244180679321,\n",
       "  0.9747385382652283,\n",
       "  0.880885660648346,\n",
       "  0.834484338760376,\n",
       "  0.7805049419403076,\n",
       "  0.7358911037445068,\n",
       "  0.781469464302063,\n",
       "  0.6443397998809814,\n",
       "  0.6197687387466431,\n",
       "  0.5637065768241882,\n",
       "  0.5968495011329651,\n",
       "  0.5525798797607422,\n",
       "  0.5219621658325195,\n",
       "  0.4471803903579712,\n",
       "  0.4440416395664215],\n",
       " 'accuracy': [0.03210273012518883,\n",
       "  0.0394863560795784,\n",
       "  0.044622793793678284,\n",
       "  0.051364365965127945,\n",
       "  0.08603531122207642,\n",
       "  0.13033707439899445,\n",
       "  0.18780095875263214,\n",
       "  0.26452648639678955,\n",
       "  0.3274478316307068,\n",
       "  0.41316211223602295,\n",
       "  0.4635634124279022,\n",
       "  0.5235955119132996,\n",
       "  0.5823435187339783,\n",
       "  0.6324237585067749,\n",
       "  0.6632423996925354,\n",
       "  0.675762414932251,\n",
       "  0.6972712874412537,\n",
       "  0.7113964557647705,\n",
       "  0.7268058061599731,\n",
       "  0.7553772330284119,\n",
       "  0.7643659710884094,\n",
       "  0.7884430289268494,\n",
       "  0.7977527976036072,\n",
       "  0.7858747839927673,\n",
       "  0.8205457329750061,\n",
       "  0.8260031938552856,\n",
       "  0.8436596989631653,\n",
       "  0.833707869052887,\n",
       "  0.8523274660110474,\n",
       "  0.8606741428375244,\n",
       "  0.8805778622627258,\n",
       "  0.8796147704124451],\n",
       " 'val_loss': [3.579166889190674,\n",
       "  3.477505683898926,\n",
       "  3.478574514389038,\n",
       "  3.5038537979125977,\n",
       "  3.1189534664154053,\n",
       "  2.6333866119384766,\n",
       "  2.2696404457092285,\n",
       "  1.908785104751587,\n",
       "  1.648733139038086,\n",
       "  1.4560352563858032,\n",
       "  1.344608187675476,\n",
       "  1.4197485446929932,\n",
       "  1.2748665809631348,\n",
       "  1.0097769498825073,\n",
       "  1.0520213842391968,\n",
       "  1.0248421430587769,\n",
       "  0.9496376514434814,\n",
       "  0.8677166700363159,\n",
       "  0.940406322479248,\n",
       "  0.9014551639556885,\n",
       "  0.8428247570991516,\n",
       "  0.7913530468940735,\n",
       "  0.8647525906562805,\n",
       "  0.7942569255828857,\n",
       "  0.9607850909233093,\n",
       "  0.7408311367034912,\n",
       "  0.6906827092170715,\n",
       "  0.8292363882064819,\n",
       "  0.7022122740745544,\n",
       "  0.6182857751846313,\n",
       "  0.5436418056488037,\n",
       "  0.5942703485488892],\n",
       " 'val_accuracy': [0.03988603875041008,\n",
       "  0.07407407462596893,\n",
       "  0.07122506946325302,\n",
       "  0.09971509873867035,\n",
       "  0.20512820780277252,\n",
       "  0.3504273593425751,\n",
       "  0.4216524362564087,\n",
       "  0.5242165327072144,\n",
       "  0.5783475637435913,\n",
       "  0.6438746452331543,\n",
       "  0.680911660194397,\n",
       "  0.6638176441192627,\n",
       "  0.6894586682319641,\n",
       "  0.74643874168396,\n",
       "  0.752136766910553,\n",
       "  0.752136766910553,\n",
       "  0.7749287486076355,\n",
       "  0.809116780757904,\n",
       "  0.7749287486076355,\n",
       "  0.8005697727203369,\n",
       "  0.811965823173523,\n",
       "  0.8290598392486572,\n",
       "  0.8148148059844971,\n",
       "  0.8376068472862244,\n",
       "  0.8034188151359558,\n",
       "  0.8717948794364929,\n",
       "  0.8547008633613586,\n",
       "  0.8603988885879517,\n",
       "  0.8803418874740601,\n",
       "  0.8917378783226013,\n",
       "  0.9088318943977356,\n",
       "  0.9230769276618958]}"
      ]
     },
     "execution_count": 44,
     "metadata": {},
     "output_type": "execute_result"
    }
   ],
   "source": [
    "training_history.history # Return Dictionary of History"
   ]
  },
  {
   "cell_type": "code",
   "execution_count": null,
   "metadata": {
    "id": "XPc_e_p8n7g2"
   },
   "outputs": [],
   "source": [
    "# Recording History in json\n",
    "import json\n",
    "with open('training_hist.json', 'w') as f:\n",
    "  json.dump(training_history.history, f)"
   ]
  },
  {
   "cell_type": "code",
   "execution_count": null,
   "metadata": {
    "colab": {
     "base_uri": "https://localhost:8080/"
    },
    "id": "MkfDtfLwod90",
    "outputId": "ff540b01-a445-4b42-f412-aeaa23907353"
   },
   "outputs": [
    {
     "name": "stdout",
     "output_type": "stream",
     "text": [
      "dict_keys(['loss', 'accuracy', 'val_loss', 'val_accuracy'])\n"
     ]
    }
   ],
   "source": [
    "print(training_history.history.keys())"
   ]
  },
  {
   "cell_type": "markdown",
   "metadata": {
    "id": "T4IyjaAfyviG"
   },
   "source": [
    "## Calculating Accuracy of Model Achieved on Validation Set"
   ]
  },
  {
   "cell_type": "code",
   "execution_count": null,
   "metadata": {
    "colab": {
     "base_uri": "https://localhost:8080/"
    },
    "id": "uKQaiM-uooGB",
    "outputId": "4f724004-7f30-4ad9-954c-049e733be6fa"
   },
   "outputs": [
    {
     "name": "stdout",
     "output_type": "stream",
     "text": [
      "Validation set Accuracy: 92.30769276618958 %\n"
     ]
    }
   ],
   "source": [
    "print(\"Validation set Accuracy: {} %\". format(training_history.history['val_accuracy'][-1] * 100))"
   ]
  },
  {
   "cell_type": "markdown",
   "metadata": {
    "id": "F9EmnXbg3I1F"
   },
   "source": [
    "# Accuracy Visualization"
   ]
  },
  {
   "cell_type": "markdown",
   "metadata": {
    "id": "BQrjWIn73SRS"
   },
   "source": [
    "## Training Accuracy Visualization"
   ]
  },
  {
   "cell_type": "code",
   "execution_count": null,
   "metadata": {
    "colab": {
     "base_uri": "https://localhost:8080/",
     "height": 472
    },
    "id": "AIPk9v0BzKeE",
    "outputId": "4cc9839d-4105-4cc0-ed67-d95c185aa028"
   },
   "outputs": [
    {
     "data": {
      "image/png": "[encoded data removed]",
      "text/plain": [
       "<Figure size 640x480 with 1 Axes>"
      ]
     },
     "metadata": {},
     "output_type": "display_data"
    }
   ],
   "source": [
    "epochs = [i for i in range(1, 33)]\n",
    "plt.plot(epochs, training_history.history['accuracy'], color='red')\n",
    "plt.xlabel('No of Epochs')\n",
    "plt.ylabel('Training Accuracy')\n",
    "plt.title('Visualization of Training Accuracy Result')\n",
    "plt.show()"
   ]
  },
  {
   "cell_type": "markdown",
   "metadata": {
    "id": "iP8u1woF4mJa"
   },
   "source": [
    "## Validation Accuracy Visualization"
   ]
  },
  {
   "cell_type": "code",
   "execution_count": null,
   "metadata": {
    "colab": {
     "base_uri": "https://localhost:8080/",
     "height": 472
    },
    "id": "y1yFf-rr4tAZ",
    "outputId": "a4771d87-c776-4ec1-9bfa-c85ee6def7dc"
   },
   "outputs": [
    {
     "data": {
      "image/png": "[encoded data removed]",
      "text/plain": [
       "<Figure size 640x480 with 1 Axes>"
      ]
     },
     "metadata": {},
     "output_type": "display_data"
    }
   ],
   "source": [
    "plt.plot(epochs, training_history.history['val_accuracy'], color='blue')\n",
    "plt.xlabel('No of Epochs')\n",
    "plt.ylabel('Validation Accuracy')\n",
    "plt.title('Visualization of Validation Accuracy Result')\n",
    "plt.show()"
   ]
  },
  {
   "cell_type": "markdown",
   "metadata": {
    "id": "V9PcFm6Y_34O"
   },
   "source": [
    "# Evaluating Model"
   ]
  },
  {
   "cell_type": "code",
   "execution_count": null,
   "metadata": {
    "colab": {
     "base_uri": "https://localhost:8080/"
    },
    "id": "DH-Mywgx9Q_Q",
    "outputId": "d49e8250-2707-4206-e9b7-38fd05db6b47"
   },
   "outputs": [
    {
     "name": "stdout",
     "output_type": "stream",
     "text": [
      "98/98 [==============================] - 108s 1s/step - loss: 0.2220 - accuracy: 0.9445\n"
     ]
    }
   ],
   "source": [
    "traning_loss, training_accuracy = cnn.evaluate(training_set)"
   ]
  },
  {
   "cell_type": "code",
   "execution_count": null,
   "metadata": {
    "colab": {
     "base_uri": "https://localhost:8080/"
    },
    "id": "skWtbfV1AXB8",
    "outputId": "dd065031-fb83-48b4-8720-af7412f38642"
   },
   "outputs": [
    {
     "name": "stdout",
     "output_type": "stream",
     "text": [
      "0.22197988629341125 0.9444622993469238\n"
     ]
    }
   ],
   "source": [
    "print(traning_loss, training_accuracy)"
   ]
  },
  {
   "cell_type": "code",
   "execution_count": null,
   "metadata": {
    "colab": {
     "base_uri": "https://localhost:8080/"
    },
    "id": "uMFC39of-EjY",
    "outputId": "1d5b1716-2d5c-4870-a12c-53133380231f"
   },
   "outputs": [
    {
     "name": "stdout",
     "output_type": "stream",
     "text": [
      "11/11 [==============================] - 13s 238ms/step - loss: 0.5943 - accuracy: 0.9231\n"
     ]
    }
   ],
   "source": [
    "val_loss, val_accuracy = cnn.evaluate(validation_set)"
   ]
  },
  {
   "cell_type": "code",
   "execution_count": null,
   "metadata": {
    "colab": {
     "base_uri": "https://localhost:8080/"
    },
    "id": "l-ppTnevAeYr",
    "outputId": "7b1e9c55-22ec-4939-c406-dbe166187d9f"
   },
   "outputs": [
    {
     "name": "stdout",
     "output_type": "stream",
     "text": [
      "0.5942703485488892 0.9230769276618958\n"
     ]
    }
   ],
   "source": [
    "print(val_loss, val_accuracy)"
   ]
  },
  {
   "cell_type": "code",
   "execution_count": null,
   "metadata": {
    "colab": {
     "base_uri": "https://localhost:8080/"
    },
    "id": "vzVvO8-i-Eny",
    "outputId": "51636d9f-371a-41b0-e2ee-717e5073e254"
   },
   "outputs": [
    {
     "name": "stdout",
     "output_type": "stream",
     "text": [
      "Found 359 files belonging to 36 classes.\n"
     ]
    }
   ],
   "source": [
    "test_set = tf.keras.utils.image_dataset_from_directory(\n",
    "    '/content/drive/MyDrive/Fruit_vegetable_recognition/test',\n",
    "    labels=\"inferred\",\n",
    "    label_mode=\"categorical\",\n",
    "    class_names=None,\n",
    "    color_mode=\"rgb\",\n",
    "    batch_size=32,\n",
    "    image_size=(64, 64),\n",
    "    shuffle=True,\n",
    "    seed=None,\n",
    "    validation_split=None,\n",
    "    subset=None,\n",
    "    interpolation=\"bilinear\",\n",
    "    follow_links=False,\n",
    "    crop_to_aspect_ratio=False\n",
    ")"
   ]
  },
  {
   "cell_type": "code",
   "execution_count": null,
   "metadata": {
    "colab": {
     "base_uri": "https://localhost:8080/"
    },
    "id": "8gPuYF7j_GPG",
    "outputId": "2012a056-b6dd-4025-f361-f958f0c6930b"
   },
   "outputs": [
    {
     "name": "stdout",
     "output_type": "stream",
     "text": [
      "12/12 [==============================] - 119s 2s/step - loss: 0.5816 - accuracy: 0.9248\n"
     ]
    }
   ],
   "source": [
    "test_loss, test_accuracy = cnn.evaluate(test_set)"
   ]
  },
  {
   "cell_type": "code",
   "execution_count": null,
   "metadata": {
    "colab": {
     "base_uri": "https://localhost:8080/"
    },
    "id": "zY6iFMaTAmGJ",
    "outputId": "2712d338-c994-4a91-f985-d60e78c276e3"
   },
   "outputs": [
    {
     "name": "stdout",
     "output_type": "stream",
     "text": [
      "0.5815614461898804 0.9247910976409912\n"
     ]
    }
   ],
   "source": [
    "print(test_loss, test_accuracy)"
   ]
  },
  {
   "cell_type": "code",
   "execution_count": null,
   "metadata": {
    "id": "opa7WMzeBGsP"
   },
   "outputs": [],
   "source": []
  }
 ],
 "metadata": {
  "colab": {
   "provenance": []
  },
  "kernelspec": {
   "display_name": "Python 3 (ipykernel)",
   "language": "python",
   "name": "python3"
  },
  "language_info": {
   "codemirror_mode": {
    "name": "ipython",
    "version": 3
   },
   "file_extension": ".py",
   "mimetype": "text/x-python",
   "name": "python",
   "nbconvert_exporter": "python",
   "pygments_lexer": "ipython3",
   "version": "3.10.9"
  }
 },
 "nbformat": 4,
 "nbformat_minor": 4
}
